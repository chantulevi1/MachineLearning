{
 "cells": [
  {
   "cell_type": "markdown",
   "metadata": {},
   "source": [
    "Please fill in your name and that of your teammate.\n",
    "\n",
    "You:\n",
    "\n",
    "Teammate:"
   ]
  },
  {
   "cell_type": "markdown",
   "metadata": {},
   "source": [
    "# Introduction"
   ]
  },
  {
   "cell_type": "markdown",
   "metadata": {},
   "source": [
    "Welcome to the first lab. Take a moment to familiarize yourself with this interactive notebook. Each notebook is composed of cells. Each cell can be [markdown](https://github.com/adam-p/markdown-here/wiki/Markdown-Cheatsheet) _(easy-to-format text)_ or **code** (Python 3). Markdown cells also accept $\\LaTeX$ formatting. Feel free to double-click on these textual cells (switching to edit mode) to see how they were made."
   ]
  },
  {
   "cell_type": "markdown",
   "metadata": {},
   "source": [
    "When a cell is highlighted, it has two modes: command and input. Press `esc` to go to *command mode*, press `enter` to go into *edit/input mode*. There are a few shortcuts that only work in edit mode that can make your life easier. This will probably satiate your curiosity: [[link]](https://towardsdatascience.com/optimizing-jupyter-notebook-tips-tricks-and-nbextensions-26d75d502663)."
   ]
  },
  {
   "cell_type": "markdown",
   "metadata": {},
   "source": [
    "A few shortcuts that will make your life easier: you can always press `shift+enter` to evaluate the current cell; in *command mode*, press `a` to create a new cell above the current, `b` to create one below, `m` to convert to markdown, `y` to convert to code. Cells can be also merged and split (did you check the shortcuts?)."
   ]
  },
  {
   "cell_type": "markdown",
   "metadata": {},
   "source": [
    "And if you look for a command for which you don't know the shortcut yet, press `p` for the command palette and try typing what you are looking for in the search field."
   ]
  },
  {
   "cell_type": "markdown",
   "metadata": {},
   "source": [
    "### (Computational) kernel"
   ]
  },
  {
   "cell_type": "markdown",
   "metadata": {},
   "source": [
    "Jupyter as a server generates the interactive web interface that you are seeing (and using) now. To run the code, the server maintains a running instance of Python, what is called a _computational kernel_. Think of it as an open terminal window with the interactive Python open: each time you _evaluate_ a cell, the code is run on that \"kernel\", and the output is displayed below the input cell. Try to run the cell below:"
   ]
  },
  {
   "cell_type": "code",
   "execution_count": 2,
   "metadata": {},
   "outputs": [
    {
     "name": "stdout",
     "output_type": "stream",
     "text": [
      "5\n"
     ]
    }
   ],
   "source": [
    "a = 3+2\n",
    "print(a)"
   ]
  },
  {
   "cell_type": "markdown",
   "metadata": {},
   "source": [
    "Then you can use the variable `a` again in your next executions:"
   ]
  },
  {
   "cell_type": "code",
   "execution_count": 3,
   "metadata": {},
   "outputs": [
    {
     "name": "stdout",
     "output_type": "stream",
     "text": [
      "5\n"
     ]
    }
   ],
   "source": [
    "print(a)"
   ]
  },
  {
   "cell_type": "markdown",
   "metadata": {},
   "source": [
    "Just remember that the order in which you run the cells matters: for example try running next the cell below this text, and then the cell above this text once more."
   ]
  },
  {
   "cell_type": "code",
   "execution_count": 4,
   "metadata": {},
   "outputs": [],
   "source": [
    "a = 3-2"
   ]
  },
  {
   "cell_type": "markdown",
   "metadata": {},
   "source": [
    "Check the `Kernel` menu on top of the page for options on controlling the underlying Python execution. For example, `Restart & Run All` terminates the current kernel, launches a new fresh one, then executes all (code) cells in the notebook in order. The `Interrupt` command is also useful if a bug gets the execution stuck."
   ]
  },
  {
   "cell_type": "markdown",
   "metadata": {},
   "source": [
    "### How to pass the lab?"
   ]
  },
  {
   "cell_type": "markdown",
   "metadata": {},
   "source": [
    "Below you find the exercise questions. Each question awarding points is numbered and states the number of points like this: **[0pts]**. To answer a question, fill the cell below with your answer (markdown for text, code for implementation). Incorrect or incomplete answers are in principle worth 0 points: to assign partial reward is only up to teacher discretion. Overcomplete answers do not award extra points (though they are appreciated and will be kept under consideration). Save your work frequently! (`ctrl+s`)\n",
    "\n",
    "**You need at least 16 points (out of 24 available) to pass** (66%)."
   ]
  },
  {
   "cell_type": "markdown",
   "metadata": {},
   "source": [
    "# 1. Fundamentals"
   ]
  },
  {
   "cell_type": "markdown",
   "metadata": {},
   "source": [
    "Let's start simple. "
   ]
  },
  {
   "cell_type": "markdown",
   "metadata": {},
   "source": [
    "#### 1.1 **[1pt]** Write a sentence that correctly employs the words *problem*, *solution*, *model* and *parameters set*."
   ]
  },
  {
   "cell_type": "markdown",
   "metadata": {},
   "source": [
    "If we want to minimize the hours spent on creating a course schedule for teachers and students, we can model the problem using graphs, with their timetables as the parameter set, to find the optimal solution."
   ]
  },
  {
   "cell_type": "markdown",
   "metadata": {},
   "source": [
    "#### 1.2 **[1pt]** Write the equation of a linear model. You should use $\\LaTeX$ formatting, just wrap the equation in between dollar signs (e.g. `$\\LaTeX$`)."
   ]
  },
  {
   "cell_type": "markdown",
   "metadata": {},
   "source": [
    "$ Y = mX + b $"
   ]
  },
  {
   "cell_type": "markdown",
   "metadata": {},
   "source": [
    "#### 1.3 **[1pt]** When is a system of equations *overdetermined*?"
   ]
  },
  {
   "cell_type": "markdown",
   "metadata": {},
   "source": [
    "A system of equations is overdetermined when tracks too specific data, losing abitily to generalize. "
   ]
  },
  {
   "cell_type": "markdown",
   "metadata": {},
   "source": [
    "#### 1.4 **[1pt]** Describe with your own words (i.e. English) what is a *Training Dataset*.\n",
    "Mind, there is not an explicit definition in the slides, you should understand the math (your lecture notes may help)."
   ]
  },
  {
   "cell_type": "markdown",
   "metadata": {},
   "source": [
    "A training data set consists on examples of paired input and output values. With the observed results, a machine learning model can learn reactions, patterns and ways of processing the input data. This way, the model can get better predictions of new data after each test.\n"
   ]
  },
  {
   "cell_type": "markdown",
   "metadata": {},
   "source": [
    "#### 1.5 **[1pt]** List the other two (main) learning paradigms beside *unsupervised learning*."
   ]
  },
  {
   "cell_type": "markdown",
   "metadata": {},
   "source": []
  },
  {
   "cell_type": "markdown",
   "metadata": {},
   "source": [
    "#### 1.6 **[1pt]** Which word describes when the model I use is too complex to capture the underlying simplicity of the data? \n",
    "Careful not to pick the wrong term."
   ]
  },
  {
   "cell_type": "markdown",
   "metadata": {},
   "source": [
    "Overfitting"
   ]
  },
  {
   "cell_type": "markdown",
   "metadata": {},
   "source": [
    "# 2. Error, loss and risk"
   ]
  },
  {
   "cell_type": "markdown",
   "metadata": {},
   "source": [
    "Understanding the concept of loss and risk is fundamental to comprehending the general idea of an \"error\". The whole ML is founded on the basis of recognizing error and minimizing it. These questions go into a separate section to highlight how important it is that you understand what is going on here."
   ]
  },
  {
   "cell_type": "markdown",
   "metadata": {},
   "source": [
    "#### 2.1 **[3pt]** About the *Loss Function*: why $L(\\hat y, y) = 0 \\;\\;\\text{if}\\;\\; \\hat y = y, \\;\\;\\forall y \\in Y$?"
   ]
  },
  {
   "cell_type": "markdown",
   "metadata": {},
   "source": [
    "$L(\\hat y, y)$ describes the difference between the prediction and the output result of the ML model (ussually called the \"error\"). If the output result is exactly as prediction made, the error is 0. "
   ]
  },
  {
   "cell_type": "markdown",
   "metadata": {},
   "source": [
    "If you want to implement the *Empirical Risk* in Python, you need to understand its mathematical form. Let's say that the *Loss* is a simple difference between prediction and target:"
   ]
  },
  {
   "cell_type": "markdown",
   "metadata": {},
   "source": [
    "#### 2.2 **[3pt]** What does $\\hat{R}(h) = \\sum_{i=1}^n L(h(x_i), y_i),\\;\\forall (x_i, y_i) \\in D$ mean?\n",
    "In English here, though you will get to code it in one of the next questions."
   ]
  },
  {
   "cell_type": "markdown",
   "metadata": {},
   "source": [
    "$\\hat{R}(h)$ expression represents the empirical risk. \n",
    "$\\sum_{i=1}^n$ This term shows that the summation goes from 1 to n total data points in the dataset.\n",
    "$L(h(x_i), y_i)$ the loss function is applied to the prediction, it represents the difference between with each input xi and its corresponding output yi value. \n",
    "$\\;\\forall (x_i, y_i)$ represents that the summation is over all datapoints in th dataset.\n",
    "The $\\hat{R}(h)$ expression is used in machine learning to quantify how well a hypothesis \"h\" performs on a given dataset based on the sum of losses on each data point in the dataset."
   ]
  },
  {
   "cell_type": "markdown",
   "metadata": {},
   "source": [
    "# 3. Simplest learning"
   ]
  },
  {
   "cell_type": "markdown",
   "metadata": {},
   "source": [
    "Enough concepts, let's have some fun. I hope you are familiar with Python -- if not yet, you should become so by the end of the course. If your confidence is low you should start a discussion on Moodle, so that you can all help each other (and help us help you)."
   ]
  },
  {
   "cell_type": "markdown",
   "metadata": {},
   "source": [
    "Do you know about `lambda` functions in Python? You can write a method that returns a function. The function can be used as if it was a method defined with `def`. Only be careful about 1. `lambda`s always (implicitly) `return` the result of their computation, and 2. you cannot write multiline lambdas (go ask Guido van Rossum why). Still, using them is easier than it sounds:"
   ]
  },
  {
   "cell_type": "code",
   "execution_count": 5,
   "metadata": {},
   "outputs": [
    {
     "data": {
      "text/plain": [
       "8"
      ]
     },
     "execution_count": 5,
     "metadata": {},
     "output_type": "execute_result"
    }
   ],
   "source": [
    "def add_n(n): return lambda x: n+x\n",
    "add_3 = add_n(3)\n",
    "add_3(5)"
   ]
  },
  {
   "cell_type": "markdown",
   "metadata": {},
   "source": [
    "Ok how about we create and plot some artificial data? Study the code below, if there is any feature you are not yet familiar with you should make sure to learn it (ask on Moodle).\n",
    "\n",
    "I mean it. Later on you will be required to use all of these functionalities yourself. Verify early in the course what you need to refresh and what is entirely new, because later on studying software engineering while working on the (much!) harder assignments may become a problem."
   ]
  },
  {
   "cell_type": "code",
   "execution_count": 6,
   "metadata": {},
   "outputs": [],
   "source": [
    "# These lines are required for our plotting function below\n",
    "%matplotlib inline\n",
    "import matplotlib.pyplot as plt\n",
    "import seaborn as sns\n",
    "# While this is the library for numerical manipulations\n",
    "import numpy as np\n",
    "\n",
    "# This is just some styling for the plotting library\n",
    "sns.set(rc={'figure.figsize':(8,6)}, style=\"whitegrid\")\n",
    "\n",
    "# Let's create the data from a function you should be acquainted with by now\n",
    "# (do you know lambdas yet? They are basically short, unnamed methods)\n",
    "trg_fn = lambda x: 2*x - 1 \n",
    "# Of course we want the data to be a bit noisy\n",
    "some_noise = lambda: np.random.normal(0,3)\n",
    "# Let's generate it using numpy's linear space and a python list comprehension,\n",
    "# just to make sure you know these too\n",
    "data = [[x, trg_fn(x) + some_noise()] for x in np.linspace(-10, 10, 50)]\n",
    "\n",
    "# You will find commonly data treated by axis/column rather than coordinate pairs.\n",
    "# This aggregates data series belonging to the same dimension (feature)\n",
    "transpose = lambda lst: list(map(list, zip(*lst)))\n",
    "data_x, data_y = transpose(data)\n",
    "\n",
    "# And here's a canned plotting function that you are free to use (for now...)\n",
    "def plot_data_and_model(model=None, text=None):\n",
    "    ret = sns.scatterplot(x=data_x, y=data_y) # hard-coded data plotting because we can\n",
    "    if model is not None:\n",
    "        sns.lineplot(x=data_x, y=[model(x) for x in data_x], color='darkred')\n",
    "    if text is not None:\n",
    "        plt.title(text)\n",
    "    return ret"
   ]
  },
  {
   "cell_type": "markdown",
   "metadata": {},
   "source": [
    "Here is what the data you just generated looks like:"
   ]
  },
  {
   "cell_type": "code",
   "execution_count": 7,
   "metadata": {},
   "outputs": [
    {
     "data": {
      "image/png": "[encoded data removed]",
      "text/plain": [
       "<Figure size 800x600 with 1 Axes>"
      ]
     },
     "metadata": {},
     "output_type": "display_data"
    }
   ],
   "source": [
    "plot_data_and_model(text=\"Here is what the data looks like (without model)\");"
   ]
  },
  {
   "cell_type": "markdown",
   "metadata": {},
   "source": [
    "And here is what it looks like if you cheat and plot the underlying function (ideally your final, learned model should look similar)"
   ]
  },
  {
   "cell_type": "code",
   "execution_count": 8,
   "metadata": {},
   "outputs": [
    {
     "data": {
      "text/plain": [
       "<Axes: title={'center': 'Data with generating function'}>"
      ]
     },
     "execution_count": 8,
     "metadata": {},
     "output_type": "execute_result"
    },
    {
     "data": {
      "image/png": "[encoded data removed]",
      "text/plain": [
       "<Figure size 800x600 with 1 Axes>"
      ]
     },
     "metadata": {},
     "output_type": "display_data"
    }
   ],
   "source": [
    "plot_data_and_model(trg_fn, text=\"Data with generating function\")"
   ]
  },
  {
   "cell_type": "markdown",
   "metadata": {},
   "source": [
    "#### 3.1 **[2pt]** Write your linear model as a method that takes `m` and `q` as input, and return a linear function of the form `mx + q`."
   ]
  },
  {
   "cell_type": "code",
   "execution_count": null,
   "metadata": {},
   "outputs": [],
   "source": [
    "def linear_model(m, q):\n",
    "    \"\"\"\n",
    "\n",
    "    Parameters:\n",
    "    - m: Slope of the line\n",
    "    - q: y-intercept\n",
    "\n",
    "    Returns:\n",
    "    - Function representing the linear model: mx + q\n",
    "    \"\"\"\n",
    "    def model(x):\n",
    "        return m * x + q\n",
    "\n",
    "    return model\n",
    "\n",
    "\n",
    "# Example\n",
    "example_linear_model = linear_model(2, 1)\n",
    "prediction = example_linear_model(3)\n",
    "print(prediction) "
   ]
  },
  {
   "cell_type": "markdown",
   "metadata": {},
   "source": [
    "#### 3.2 **[2pt]** Write your loss as a method that takes an `x` and a target and returns the absolute value of their difference\n",
    "(think: what happens if we forget the absolute value?)"
   ]
  },
  {
   "cell_type": "code",
   "execution_count": 14,
   "metadata": {},
   "outputs": [
    {
     "name": "stdout",
     "output_type": "stream",
     "text": [
      "7\n"
     ]
    }
   ],
   "source": [
    "data = [[-7.75510204, -15.80662743], [-7.14285714, -13.16234827], ...]\n",
    "\n",
    "##We define L function\n",
    "def L(x, y):\n",
    "    return (x - y)**2\n",
    "\n",
    "\n",
    "\n"
   ]
  },
  {
   "cell_type": "markdown",
   "metadata": {},
   "source": [
    "#### 3.3 **[2pt]** Write your risk as a method (or lambda) that takes a model as input, and returns the total loss over our (hard-coded) data"
   ]
  },
  {
   "cell_type": "code",
   "execution_count": 9,
   "metadata": {},
   "outputs": [],
   "source": [
    "\n",
    "\n",
    "\n",
    "def risk(linear_model):\n",
    "    \"\"\"\n",
    "    Calculate the total loss (empirical risk) over the hard-coded data.\n",
    "\n",
    "    Parameters:\n",
    "    - model: The linear model function\n",
    "\n",
    "    Returns:\n",
    "    - Total loss over the data\n",
    "    \"\"\"\n",
    "    total_loss = sum(L(linear_model(x), y) for x, y in data)\n",
    "    return total_loss\n"
   ]
  },
  {
   "cell_type": "markdown",
   "metadata": {},
   "source": [
    "Here is an example of a loop that generates random numbers and maintains a *minimum*.  \n",
    "(think: will you need to minimize or maximize the risk of your model?)"
   ]
  },
  {
   "cell_type": "code",
   "execution_count": 10,
   "metadata": {},
   "outputs": [
    {
     "data": {
      "image/png": "[encoded data removed]",
      "text/plain": [
       "<Figure size 800x600 with 1 Axes>"
      ]
     },
     "metadata": {},
     "output_type": "display_data"
    }
   ],
   "source": [
    "min_guess = np.Infinity # higher than highest possible\n",
    "\n",
    "best_guesses = []\n",
    "for _ in range(100):\n",
    "    guess = np.random.uniform(-3,3)\n",
    "    if guess < min_guess:\n",
    "        min_guess = guess\n",
    "        best_guesses.append(min_guess)\n",
    "\n",
    "sns.lineplot(x=range(len(best_guesses)), y=best_guesses);"
   ]
  },
  {
   "cell_type": "markdown",
   "metadata": {},
   "source": [
    "TIP: it is always useful to visualize how the loss decreases over time, especially for debugging purposes. You can do the same next for your errors/losses."
   ]
  },
  {
   "cell_type": "markdown",
   "metadata": {},
   "source": [
    "#### 3.4 **[6pt]** Randomly guess a model's parameters 1000 times. Then plot it using the call below.\n",
    "```python\n",
    "plot_data_and_model(lin_model(m, q), text=f\"m={round(m,2)}    q={round(q,2)}\")        \n",
    "```\n",
    "Make sure you understand how string interpolation works when using the format `f\"hello w{2+1-3}rld\"`.  \n",
    "You will need to modify the loop above in order to maintain both a best guess for your model and its corresponding best risk/error."
   ]
  },
  {
   "cell_type": "code",
   "execution_count": null,
   "metadata": {},
   "outputs": [],
   "source": []
  }
 ],
 "metadata": {
  "kernelspec": {
   "display_name": "Python 3 (ipykernel)",
   "language": "python",
   "name": "python3"
  },
  "language_info": {
   "codemirror_mode": {
    "name": "ipython",
    "version": 3
   },
   "file_extension": ".py",
   "mimetype": "text/x-python",
   "name": "python",
   "nbconvert_exporter": "python",
   "pygments_lexer": "ipython3",
   "version": "3.11.8"
  }
 },
 "nbformat": 4,
 "nbformat_minor": 4
}
